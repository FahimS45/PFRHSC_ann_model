{
 "cells": [
  {
   "cell_type": "markdown",
   "id": "5d396402",
   "metadata": {},
   "source": [
    "# **Prediction Model_PFRHSC** "
   ]
  },
  {
   "cell_type": "markdown",
   "id": "972650ca",
   "metadata": {},
   "source": [
    "### Importing necessary libraries"
   ]
  },
  {
   "cell_type": "code",
   "execution_count": 1,
   "id": "924d43b5",
   "metadata": {},
   "outputs": [],
   "source": [
    "import numpy as np\n",
    "import pandas as pd\n",
    "from sklearn.preprocessing import StandardScaler\n",
    "from sklearn.model_selection import train_test_split\n",
    "from sklearn.metrics import mean_absolute_error, mean_squared_error, r2_score\n",
    "import tensorflow as tf\n",
    "from tensorflow.keras import Sequential\n",
    "from tensorflow.keras.layers import Dense\n",
    "from keras.regularizers import l2\n",
    "from tensorflow.keras.models import load_model"
   ]
  },
  {
   "cell_type": "markdown",
   "id": "970a0996",
   "metadata": {},
   "source": [
    "### Mounting our dataset"
   ]
  },
  {
   "cell_type": "code",
   "execution_count": 2,
   "id": "098627eb",
   "metadata": {},
   "outputs": [
    {
     "data": {
      "text/html": [
       "<div>\n",
       "<style scoped>\n",
       "    .dataframe tbody tr th:only-of-type {\n",
       "        vertical-align: middle;\n",
       "    }\n",
       "\n",
       "    .dataframe tbody tr th {\n",
       "        vertical-align: top;\n",
       "    }\n",
       "\n",
       "    .dataframe thead th {\n",
       "        text-align: right;\n",
       "    }\n",
       "</style>\n",
       "<table border=\"1\" class=\"dataframe\">\n",
       "  <thead>\n",
       "    <tr style=\"text-align: right;\">\n",
       "      <th></th>\n",
       "      <th>Fiber</th>\n",
       "      <th>Temperature</th>\n",
       "      <th>Compressive Strength</th>\n",
       "    </tr>\n",
       "  </thead>\n",
       "  <tbody>\n",
       "    <tr>\n",
       "      <th>count</th>\n",
       "      <td>20.000000</td>\n",
       "      <td>20.000000</td>\n",
       "      <td>20.000000</td>\n",
       "    </tr>\n",
       "    <tr>\n",
       "      <th>mean</th>\n",
       "      <td>0.750000</td>\n",
       "      <td>365.000000</td>\n",
       "      <td>34.876000</td>\n",
       "    </tr>\n",
       "    <tr>\n",
       "      <th>std</th>\n",
       "      <td>0.573539</td>\n",
       "      <td>269.307103</td>\n",
       "      <td>7.006734</td>\n",
       "    </tr>\n",
       "    <tr>\n",
       "      <th>min</th>\n",
       "      <td>0.000000</td>\n",
       "      <td>25.000000</td>\n",
       "      <td>22.670000</td>\n",
       "    </tr>\n",
       "    <tr>\n",
       "      <th>25%</th>\n",
       "      <td>0.375000</td>\n",
       "      <td>150.000000</td>\n",
       "      <td>29.867500</td>\n",
       "    </tr>\n",
       "    <tr>\n",
       "      <th>50%</th>\n",
       "      <td>0.750000</td>\n",
       "      <td>350.000000</td>\n",
       "      <td>35.080000</td>\n",
       "    </tr>\n",
       "    <tr>\n",
       "      <th>75%</th>\n",
       "      <td>1.125000</td>\n",
       "      <td>550.000000</td>\n",
       "      <td>41.175000</td>\n",
       "    </tr>\n",
       "    <tr>\n",
       "      <th>max</th>\n",
       "      <td>1.500000</td>\n",
       "      <td>750.000000</td>\n",
       "      <td>46.520000</td>\n",
       "    </tr>\n",
       "  </tbody>\n",
       "</table>\n",
       "</div>"
      ],
      "text/plain": [
       "           Fiber  Temperature  Compressive Strength\n",
       "count  20.000000    20.000000             20.000000\n",
       "mean    0.750000   365.000000             34.876000\n",
       "std     0.573539   269.307103              7.006734\n",
       "min     0.000000    25.000000             22.670000\n",
       "25%     0.375000   150.000000             29.867500\n",
       "50%     0.750000   350.000000             35.080000\n",
       "75%     1.125000   550.000000             41.175000\n",
       "max     1.500000   750.000000             46.520000"
      ]
     },
     "execution_count": 2,
     "metadata": {},
     "output_type": "execute_result"
    }
   ],
   "source": [
    "data = pd.read_csv('Test data.csv')\n",
    "test_df = pd.DataFrame(data)\n",
    "test_df.describe()"
   ]
  },
  {
   "cell_type": "code",
   "execution_count": 3,
   "id": "cee3cab5",
   "metadata": {
    "scrolled": true
   },
   "outputs": [
    {
     "name": "stdout",
     "output_type": "stream",
     "text": [
      "(20, 2)\n",
      "(20, 1)\n"
     ]
    }
   ],
   "source": [
    "X = test_df[['Fiber', 'Temperature']]\n",
    "y = test_df[['Compressive Strength']]\n",
    "print(X.shape)\n",
    "print(y.shape)"
   ]
  },
  {
   "cell_type": "code",
   "execution_count": 4,
   "id": "cd6d2755",
   "metadata": {
    "scrolled": true
   },
   "outputs": [
    {
     "data": {
      "text/html": [
       "<div>\n",
       "<style scoped>\n",
       "    .dataframe tbody tr th:only-of-type {\n",
       "        vertical-align: middle;\n",
       "    }\n",
       "\n",
       "    .dataframe tbody tr th {\n",
       "        vertical-align: top;\n",
       "    }\n",
       "\n",
       "    .dataframe thead th {\n",
       "        text-align: right;\n",
       "    }\n",
       "</style>\n",
       "<table border=\"1\" class=\"dataframe\">\n",
       "  <thead>\n",
       "    <tr style=\"text-align: right;\">\n",
       "      <th></th>\n",
       "      <th>Compressive Strength</th>\n",
       "    </tr>\n",
       "  </thead>\n",
       "  <tbody>\n",
       "    <tr>\n",
       "      <th>0</th>\n",
       "      <td>41.31</td>\n",
       "    </tr>\n",
       "    <tr>\n",
       "      <th>1</th>\n",
       "      <td>35.96</td>\n",
       "    </tr>\n",
       "    <tr>\n",
       "      <th>2</th>\n",
       "      <td>30.31</td>\n",
       "    </tr>\n",
       "    <tr>\n",
       "      <th>3</th>\n",
       "      <td>28.54</td>\n",
       "    </tr>\n",
       "    <tr>\n",
       "      <th>4</th>\n",
       "      <td>22.67</td>\n",
       "    </tr>\n",
       "    <tr>\n",
       "      <th>5</th>\n",
       "      <td>43.56</td>\n",
       "    </tr>\n",
       "    <tr>\n",
       "      <th>6</th>\n",
       "      <td>38.65</td>\n",
       "    </tr>\n",
       "    <tr>\n",
       "      <th>7</th>\n",
       "      <td>32.72</td>\n",
       "    </tr>\n",
       "    <tr>\n",
       "      <th>8</th>\n",
       "      <td>31.35</td>\n",
       "    </tr>\n",
       "    <tr>\n",
       "      <th>9</th>\n",
       "      <td>24.51</td>\n",
       "    </tr>\n",
       "    <tr>\n",
       "      <th>10</th>\n",
       "      <td>45.23</td>\n",
       "    </tr>\n",
       "    <tr>\n",
       "      <th>11</th>\n",
       "      <td>41.13</td>\n",
       "    </tr>\n",
       "    <tr>\n",
       "      <th>12</th>\n",
       "      <td>35.75</td>\n",
       "    </tr>\n",
       "    <tr>\n",
       "      <th>13</th>\n",
       "      <td>33.96</td>\n",
       "    </tr>\n",
       "    <tr>\n",
       "      <th>14</th>\n",
       "      <td>26.36</td>\n",
       "    </tr>\n",
       "    <tr>\n",
       "      <th>15</th>\n",
       "      <td>46.52</td>\n",
       "    </tr>\n",
       "    <tr>\n",
       "      <th>16</th>\n",
       "      <td>41.54</td>\n",
       "    </tr>\n",
       "    <tr>\n",
       "      <th>17</th>\n",
       "      <td>36.15</td>\n",
       "    </tr>\n",
       "    <tr>\n",
       "      <th>18</th>\n",
       "      <td>34.41</td>\n",
       "    </tr>\n",
       "    <tr>\n",
       "      <th>19</th>\n",
       "      <td>26.89</td>\n",
       "    </tr>\n",
       "  </tbody>\n",
       "</table>\n",
       "</div>"
      ],
      "text/plain": [
       "    Compressive Strength\n",
       "0                  41.31\n",
       "1                  35.96\n",
       "2                  30.31\n",
       "3                  28.54\n",
       "4                  22.67\n",
       "5                  43.56\n",
       "6                  38.65\n",
       "7                  32.72\n",
       "8                  31.35\n",
       "9                  24.51\n",
       "10                 45.23\n",
       "11                 41.13\n",
       "12                 35.75\n",
       "13                 33.96\n",
       "14                 26.36\n",
       "15                 46.52\n",
       "16                 41.54\n",
       "17                 36.15\n",
       "18                 34.41\n",
       "19                 26.89"
      ]
     },
     "execution_count": 4,
     "metadata": {},
     "output_type": "execute_result"
    }
   ],
   "source": [
    "y"
   ]
  },
  {
   "cell_type": "markdown",
   "id": "48a6d9ab",
   "metadata": {},
   "source": [
    "### Splitting the dataset"
   ]
  },
  {
   "cell_type": "code",
   "execution_count": 5,
   "id": "1b359017",
   "metadata": {},
   "outputs": [],
   "source": [
    "X_train, X_, y_train, y_ = train_test_split(X, y, test_size = 0.4, random_state = 1)\n",
    "X_cv, X_test, y_cv, y_test = train_test_split(X_, y_, test_size = 0.5, random_state = 1)"
   ]
  },
  {
   "cell_type": "code",
   "execution_count": 6,
   "id": "4f5c7fb1",
   "metadata": {
    "scrolled": true
   },
   "outputs": [
    {
     "name": "stdout",
     "output_type": "stream",
     "text": [
      "(12, 2)\n",
      "(4, 2)\n",
      "(4, 2)\n",
      "(12, 1)\n"
     ]
    }
   ],
   "source": [
    "print(X_train.shape)\n",
    "print(X_cv.shape)\n",
    "print(X_test.shape)\n",
    "print(y_train.shape)"
   ]
  },
  {
   "cell_type": "markdown",
   "id": "5a296417",
   "metadata": {},
   "source": [
    "### Preparing the data for cross-validation"
   ]
  },
  {
   "cell_type": "code",
   "execution_count": 7,
   "id": "1cd6bb26",
   "metadata": {},
   "outputs": [],
   "source": [
    "scaler = StandardScaler()\n",
    "X_train_scaled = scaler.fit_transform(X_train)\n",
    "X_cv_scaled = scaler.transform(X_cv)\n",
    "X_test_scaled = scaler.transform(X_test)"
   ]
  },
  {
   "cell_type": "markdown",
   "id": "408e53f3",
   "metadata": {},
   "source": [
    "### Building different architecture for our model"
   ]
  },
  {
   "cell_type": "code",
   "execution_count": 8,
   "id": "dd9f1166",
   "metadata": {},
   "outputs": [],
   "source": [
    "def ANN_model(reg):\n",
    "    tf.random.set_seed(20)\n",
    "    \n",
    "    model_1 = Sequential(\n",
    "        [\n",
    "            Dense(3, activation='relu', kernel_regularizer=l2(reg)),\n",
    "            Dense(4, activation='relu', kernel_regularizer=l2(reg)),\n",
    "            Dense(1, activation='linear')\n",
    "        ],\n",
    "        name='model_1'\n",
    "    )\n",
    "\n",
    "    model_2 = Sequential(\n",
    "        [\n",
    "            Dense(4, activation='relu', kernel_regularizer=l2(reg)),\n",
    "            Dense(4, activation='relu', kernel_regularizer=l2(reg)),\n",
    "            Dense(2, activation='relu', kernel_regularizer=l2(reg)),\n",
    "            Dense(1, activation='linear'),\n",
    "        ],\n",
    "        name='model_2'\n",
    "    )\n",
    "\n",
    "    model_3 = Sequential(\n",
    "        [\n",
    "            Dense(4, activation='relu', kernel_regularizer=l2(reg)),\n",
    "            Dense(3, activation='relu', kernel_regularizer=l2(reg)),\n",
    "            Dense(1, activation='linear'),\n",
    "        ],\n",
    "        name='model_3'\n",
    "    )\n",
    "    \n",
    "    model_4 = Sequential(\n",
    "        [\n",
    "            Dense(5, activation='relu', kernel_regularizer=l2(reg)),\n",
    "            Dense(3, activation='relu', kernel_regularizer=l2(reg)),\n",
    "            Dense(1, activation='linear'),\n",
    "        ],\n",
    "        name='model_4'\n",
    "    )\n",
    "    \n",
    "    model_list = [model_1, model_2, model_3, model_4]\n",
    "    \n",
    "    return model_list\n",
    "    "
   ]
  },
  {
   "cell_type": "code",
   "execution_count": 9,
   "id": "455abda8",
   "metadata": {
    "scrolled": true
   },
   "outputs": [
    {
     "name": "stdout",
     "output_type": "stream",
     "text": [
      "Model's name: model_1...With Regularization: 0.01\n",
      "1/1 [==============================] - 0s 62ms/step\n",
      "Training data MSE: 0.860116155868825\n",
      "1/1 [==============================] - 0s 15ms/step\n",
      "CV data MSE: 0.7413630639806563\n",
      "R2 value: 0.9730636023874578\n",
      "\n",
      "\n",
      "Model's name: model_2...With Regularization: 0.01\n",
      "1/1 [==============================] - 0s 31ms/step\n",
      "Training data MSE: 1.7104887480243516\n",
      "1/1 [==============================] - 0s 11ms/step\n",
      "CV data MSE: 1.9409605129355587\n",
      "R2 value: 0.9294778946148843\n",
      "\n",
      "\n",
      "Model's name: model_3...With Regularization: 0.01\n",
      "1/1 [==============================] - 0s 35ms/step\n",
      "Training data MSE: 1.0642356968431648\n",
      "1/1 [==============================] - 0s 17ms/step\n",
      "CV data MSE: 2.467339123431353\n",
      "R2 value: 0.9103526586327715\n",
      "\n",
      "\n",
      "Model's name: model_4...With Regularization: 0.01\n",
      "1/1 [==============================] - 0s 35ms/step\n",
      "Training data MSE: 0.9437928371444834\n",
      "1/1 [==============================] - 0s 14ms/step\n",
      "CV data MSE: 1.3170252694494369\n",
      "R2 value: 0.9521477154079243\n",
      "\n",
      "\n",
      "Model's name: model_1...With Regularization: 0.1\n",
      "WARNING:tensorflow:5 out of the last 9 calls to <function Model.make_predict_function.<locals>.predict_function at 0x000002081E31EB60> triggered tf.function retracing. Tracing is expensive and the excessive number of tracings could be due to (1) creating @tf.function repeatedly in a loop, (2) passing tensors with different shapes, (3) passing Python objects instead of tensors. For (1), please define your @tf.function outside of the loop. For (2), @tf.function has reduce_retracing=True option that can avoid unnecessary retracing. For (3), please refer to https://www.tensorflow.org/guide/function#controlling_retracing and https://www.tensorflow.org/api_docs/python/tf/function for  more details.\n",
      "1/1 [==============================] - 0s 42ms/step\n",
      "Training data MSE: 1.1221786345299798\n",
      "1/1 [==============================] - 0s 16ms/step\n",
      "CV data MSE: 2.219368171389083\n",
      "R2 value: 0.919362338889442\n",
      "\n",
      "\n",
      "Model's name: model_2...With Regularization: 0.1\n",
      "WARNING:tensorflow:6 out of the last 11 calls to <function Model.make_predict_function.<locals>.predict_function at 0x000002081E31D800> triggered tf.function retracing. Tracing is expensive and the excessive number of tracings could be due to (1) creating @tf.function repeatedly in a loop, (2) passing tensors with different shapes, (3) passing Python objects instead of tensors. For (1), please define your @tf.function outside of the loop. For (2), @tf.function has reduce_retracing=True option that can avoid unnecessary retracing. For (3), please refer to https://www.tensorflow.org/guide/function#controlling_retracing and https://www.tensorflow.org/api_docs/python/tf/function for  more details.\n",
      "1/1 [==============================] - 0s 42ms/step\n",
      "Training data MSE: 362.83217554868787\n",
      "1/1 [==============================] - 0s 15ms/step\n",
      "CV data MSE: 295.02892817316774\n",
      "R2 value: -9.71946648353925\n",
      "\n",
      "\n",
      "Model's name: model_3...With Regularization: 0.1\n",
      "1/1 [==============================] - 0s 40ms/step\n",
      "Training data MSE: 1.0712491984133587\n",
      "1/1 [==============================] - 0s 16ms/step\n",
      "CV data MSE: 0.9677787412475249\n",
      "R2 value: 0.9648371031121545\n",
      "\n",
      "\n",
      "Model's name: model_4...With Regularization: 0.1\n",
      "1/1 [==============================] - 0s 35ms/step\n",
      "Training data MSE: 0.9932368402046935\n",
      "1/1 [==============================] - 0s 21ms/step\n",
      "CV data MSE: 1.2419199896866266\n",
      "R2 value: 0.9548765614710525\n",
      "\n",
      "\n",
      "Model's name: model_1...With Regularization: 0.001\n",
      "1/1 [==============================] - 0s 35ms/step\n",
      "Training data MSE: 0.8303913928055776\n",
      "1/1 [==============================] - 0s 14ms/step\n",
      "CV data MSE: 0.747260499011258\n",
      "R2 value: 0.972849327273689\n",
      "\n",
      "\n",
      "Model's name: model_2...With Regularization: 0.001\n",
      "1/1 [==============================] - 0s 33ms/step\n",
      "Training data MSE: 362.7493237687938\n",
      "1/1 [==============================] - 0s 14ms/step\n",
      "CV data MSE: 294.9557641150028\n",
      "R2 value: -9.716808169067665\n",
      "\n",
      "\n",
      "Model's name: model_3...With Regularization: 0.001\n",
      "1/1 [==============================] - 0s 42ms/step\n",
      "Training data MSE: 0.8672349451091158\n",
      "1/1 [==============================] - 0s 15ms/step\n",
      "CV data MSE: 0.7169608766633558\n",
      "R2 value: 0.9739502219833481\n",
      "\n",
      "\n",
      "Model's name: model_4...With Regularization: 0.001\n",
      "1/1 [==============================] - 0s 35ms/step\n",
      "Training data MSE: 0.8676863320831404\n",
      "1/1 [==============================] - 0s 21ms/step\n",
      "CV data MSE: 0.9938874739657465\n",
      "R2 value: 0.9638884785585095\n",
      "\n",
      "\n"
     ]
    }
   ],
   "source": [
    "def train_and_evaluate_model(model, X_train, y_train, X_cv, y_cv, model_identity):\n",
    "    model.compile(\n",
    "        loss='mean_squared_error',\n",
    "        optimizer=tf.keras.optimizers.Adam(learning_rate=0.1)\n",
    "    )\n",
    "\n",
    "    print(f\"Model's name: {model.name}...\" + \n",
    "         f\"With Regularization: {reg}\")\n",
    "    model.fit(\n",
    "        X_train, y_train,\n",
    "        epochs=100,\n",
    "        verbose=0\n",
    "    )\n",
    "    \n",
    "    model.save(f\"{model_name}.keras\")\n",
    "    \n",
    "    yhat_train = model.predict(X_train)\n",
    "    train_mse = mean_squared_error(y_train, yhat_train) / 2\n",
    "    print(f\"Training data MSE: {train_mse}\")\n",
    "\n",
    "    yhat_cv = model.predict(X_cv)\n",
    "    cv_mse = mean_squared_error(y_cv, yhat_cv) / 2\n",
    "    print(f\"CV data MSE: {cv_mse}\")\n",
    "\n",
    "    r2 = r2_score(y_cv, yhat_cv)\n",
    "    print(f\"R2 value: {r2}\\n\\n\")\n",
    "\n",
    "regularization_strengths = [0.01, 0.1, 0.001]\n",
    "saved_models = {}\n",
    "\n",
    "for reg in regularization_strengths:\n",
    "    models_with_reg = ANN_model(reg)\n",
    "\n",
    "    \n",
    "    for i, model in enumerate(models_with_reg):\n",
    "        model_name = f\"model_{i + 1}_reg_{reg}\"\n",
    "        train_and_evaluate_model(model, X_train_scaled, y_train, X_cv_scaled, y_cv, model_name)\n",
    "        \n",
    "        saved_models[model_name] = load_model(f\"{model_name}.keras\")\n"
   ]
  },
  {
   "cell_type": "code",
   "execution_count": 10,
   "id": "b9377cad",
   "metadata": {},
   "outputs": [
    {
     "data": {
      "text/plain": [
       "{'model_1_reg_0.01': <keras.src.engine.sequential.Sequential at 0x2081b736b90>,\n",
       " 'model_2_reg_0.01': <keras.src.engine.sequential.Sequential at 0x2081b775290>,\n",
       " 'model_3_reg_0.01': <keras.src.engine.sequential.Sequential at 0x2081a402490>,\n",
       " 'model_4_reg_0.01': <keras.src.engine.sequential.Sequential at 0x2081c80a350>,\n",
       " 'model_1_reg_0.1': <keras.src.engine.sequential.Sequential at 0x2081f383990>,\n",
       " 'model_2_reg_0.1': <keras.src.engine.sequential.Sequential at 0x2081f59b190>,\n",
       " 'model_3_reg_0.1': <keras.src.engine.sequential.Sequential at 0x2081f716b90>,\n",
       " 'model_4_reg_0.1': <keras.src.engine.sequential.Sequential at 0x208207da150>,\n",
       " 'model_1_reg_0.001': <keras.src.engine.sequential.Sequential at 0x2082077aed0>,\n",
       " 'model_2_reg_0.001': <keras.src.engine.sequential.Sequential at 0x20821b06490>,\n",
       " 'model_3_reg_0.001': <keras.src.engine.sequential.Sequential at 0x20821b38490>,\n",
       " 'model_4_reg_0.001': <keras.src.engine.sequential.Sequential at 0x20822d4f910>}"
      ]
     },
     "execution_count": 10,
     "metadata": {},
     "output_type": "execute_result"
    }
   ],
   "source": [
    "saved_models"
   ]
  },
  {
   "cell_type": "code",
   "execution_count": 11,
   "id": "5925cd95",
   "metadata": {
    "scrolled": true
   },
   "outputs": [
    {
     "data": {
      "text/html": [
       "<div>\n",
       "<style scoped>\n",
       "    .dataframe tbody tr th:only-of-type {\n",
       "        vertical-align: middle;\n",
       "    }\n",
       "\n",
       "    .dataframe tbody tr th {\n",
       "        vertical-align: top;\n",
       "    }\n",
       "\n",
       "    .dataframe thead th {\n",
       "        text-align: right;\n",
       "    }\n",
       "</style>\n",
       "<table border=\"1\" class=\"dataframe\">\n",
       "  <thead>\n",
       "    <tr style=\"text-align: right;\">\n",
       "      <th></th>\n",
       "      <th>Compressive Strength</th>\n",
       "    </tr>\n",
       "  </thead>\n",
       "  <tbody>\n",
       "    <tr>\n",
       "      <th>17</th>\n",
       "      <td>36.15</td>\n",
       "    </tr>\n",
       "    <tr>\n",
       "      <th>6</th>\n",
       "      <td>38.65</td>\n",
       "    </tr>\n",
       "    <tr>\n",
       "      <th>16</th>\n",
       "      <td>41.54</td>\n",
       "    </tr>\n",
       "    <tr>\n",
       "      <th>4</th>\n",
       "      <td>22.67</td>\n",
       "    </tr>\n",
       "  </tbody>\n",
       "</table>\n",
       "</div>"
      ],
      "text/plain": [
       "    Compressive Strength\n",
       "17                 36.15\n",
       "6                  38.65\n",
       "16                 41.54\n",
       "4                  22.67"
      ]
     },
     "execution_count": 11,
     "metadata": {},
     "output_type": "execute_result"
    }
   ],
   "source": [
    "y_test"
   ]
  },
  {
   "cell_type": "markdown",
   "id": "fc66b436",
   "metadata": {},
   "source": [
    "### Based on the trial results, \"model_4_reg_0.001\" is selected"
   ]
  },
  {
   "cell_type": "code",
   "execution_count": 21,
   "id": "ef6bb4b5",
   "metadata": {
    "scrolled": true
   },
   "outputs": [
    {
     "name": "stdout",
     "output_type": "stream",
     "text": [
      "Selected Model: model_4\n",
      "1/1 [==============================] - 0s 29ms/step\n",
      "Mean Squared Error (MSE) for test data:1.276406596818067\n",
      "Mean Absolute Error (MAE) for test data:1.477913436889649\n",
      "R2 for test data:0.951189151102336\n",
      "Root Mean Squared Error (RMSE) for test data:1.1297816589138217\n"
     ]
    }
   ],
   "source": [
    "selected_model = saved_models['model_4_reg_0.001']\n",
    "\n",
    "print(f\"Selected Model: {selected_model.name}\")\n",
    "yhat_test = selected_model.predict(X_test_scaled)\n",
    "test_mse = mean_squared_error(y_test, yhat_test) / 2\n",
    "print(f\"Mean Squared Error (MSE) for test data:{test_mse}\")\n",
    "test_mae = mean_absolute_error(y_test, yhat_test)\n",
    "print(f\"Mean Absolute Error (MAE) for test data:{test_mae}\")\n",
    "test_r2 = r2_score(y_test, yhat_test)\n",
    "print(f\"R2 for test data:{test_r2}\")\n",
    "test_rmse = np.sqrt(test_mse)\n",
    "print(f\"Root Mean Squared Error (RMSE) for test data:{test_rmse}\")"
   ]
  },
  {
   "cell_type": "code",
   "execution_count": 29,
   "id": "4dd6ccf2",
   "metadata": {
    "scrolled": true
   },
   "outputs": [
    {
     "name": "stdout",
     "output_type": "stream",
     "text": [
      "Original: \n",
      " 17    36.15\n",
      "6     38.65\n",
      "16    41.54\n",
      "4     22.67\n",
      "Name: Compressive Strength, dtype: float64\n",
      "Prediction: \n",
      "[[38.46475 ]\n",
      " [39.65153 ]\n",
      " [43.32868 ]\n",
      " [23.476696]]\n"
     ]
    }
   ],
   "source": [
    "print(f\"Original: \\n {y_test['Compressive Strength']}\" + \n",
    "      f\"\\nPrediction: \\n{yhat_test}\")"
   ]
  },
  {
   "cell_type": "markdown",
   "id": "da618d70",
   "metadata": {},
   "source": [
    "### Combining all the data back again for the final prediction"
   ]
  },
  {
   "cell_type": "code",
   "execution_count": 16,
   "id": "36e05081",
   "metadata": {},
   "outputs": [],
   "source": [
    "combined_X = np.vstack([X_train_scaled, X_cv_scaled, X_test_scaled])\n",
    "combined_y = np.concatenate([y_train, y_cv, y_test])"
   ]
  },
  {
   "cell_type": "code",
   "execution_count": 22,
   "id": "aacceb70",
   "metadata": {
    "scrolled": true
   },
   "outputs": [
    {
     "name": "stdout",
     "output_type": "stream",
     "text": [
      "Selected Model: model_4\n",
      "1/1 [==============================] - 0s 13ms/step\n",
      "Mean Squared Error (MSE):0.9746706134066467\n",
      "Mean Absolute Error (MAE):1.185376750946045\n",
      "R2:0.958204164280355\n",
      "Root Mean Squared Error (RMSE):0.9872540774322721\n"
     ]
    }
   ],
   "source": [
    "selected_model = saved_models['model_4_reg_0.001']\n",
    "\n",
    "print(f\"Selected Model: {selected_model.name}\")\n",
    "yhat = selected_model.predict(combined_X)\n",
    "mse = mean_squared_error(combined_y, yhat) / 2\n",
    "print(f\"Mean Squared Error (MSE):{mse}\")\n",
    "mae = mean_absolute_error(combined_y, yhat)\n",
    "print(f\"Mean Absolute Error (MAE):{mae}\")\n",
    "r2 = r2_score(combined_y, yhat)\n",
    "print(f\"R2:{r2}\")\n",
    "rmse = np.sqrt(mse)\n",
    "print(f\"Root Mean Squared Error (RMSE):{rmse}\")"
   ]
  },
  {
   "cell_type": "markdown",
   "id": "2a1c1afd",
   "metadata": {},
   "source": [
    "### Final outputs"
   ]
  },
  {
   "cell_type": "code",
   "execution_count": 31,
   "id": "de038ac6",
   "metadata": {},
   "outputs": [
    {
     "data": {
      "text/html": [
       "<div>\n",
       "<style scoped>\n",
       "    .dataframe tbody tr th:only-of-type {\n",
       "        vertical-align: middle;\n",
       "    }\n",
       "\n",
       "    .dataframe tbody tr th {\n",
       "        vertical-align: top;\n",
       "    }\n",
       "\n",
       "    .dataframe thead th {\n",
       "        text-align: right;\n",
       "    }\n",
       "</style>\n",
       "<table border=\"1\" class=\"dataframe\">\n",
       "  <thead>\n",
       "    <tr style=\"text-align: right;\">\n",
       "      <th></th>\n",
       "      <th>Original</th>\n",
       "      <th>Prediction</th>\n",
       "    </tr>\n",
       "  </thead>\n",
       "  <tbody>\n",
       "    <tr>\n",
       "      <th>0</th>\n",
       "      <td>32.72</td>\n",
       "      <td>34.787601</td>\n",
       "    </tr>\n",
       "    <tr>\n",
       "      <th>1</th>\n",
       "      <td>35.96</td>\n",
       "      <td>37.812962</td>\n",
       "    </tr>\n",
       "    <tr>\n",
       "      <th>2</th>\n",
       "      <td>33.96</td>\n",
       "      <td>31.762243</td>\n",
       "    </tr>\n",
       "    <tr>\n",
       "      <th>3</th>\n",
       "      <td>41.31</td>\n",
       "      <td>40.852917</td>\n",
       "    </tr>\n",
       "    <tr>\n",
       "      <th>4</th>\n",
       "      <td>26.89</td>\n",
       "      <td>28.736883</td>\n",
       "    </tr>\n",
       "    <tr>\n",
       "      <th>5</th>\n",
       "      <td>34.41</td>\n",
       "      <td>33.600815</td>\n",
       "    </tr>\n",
       "    <tr>\n",
       "      <th>6</th>\n",
       "      <td>24.51</td>\n",
       "      <td>25.059738</td>\n",
       "    </tr>\n",
       "    <tr>\n",
       "      <th>7</th>\n",
       "      <td>46.52</td>\n",
       "      <td>46.368633</td>\n",
       "    </tr>\n",
       "    <tr>\n",
       "      <th>8</th>\n",
       "      <td>31.35</td>\n",
       "      <td>29.923670</td>\n",
       "    </tr>\n",
       "    <tr>\n",
       "      <th>9</th>\n",
       "      <td>35.75</td>\n",
       "      <td>36.626175</td>\n",
       "    </tr>\n",
       "    <tr>\n",
       "      <th>10</th>\n",
       "      <td>41.13</td>\n",
       "      <td>41.490108</td>\n",
       "    </tr>\n",
       "    <tr>\n",
       "      <th>11</th>\n",
       "      <td>43.56</td>\n",
       "      <td>42.691490</td>\n",
       "    </tr>\n",
       "    <tr>\n",
       "      <th>12</th>\n",
       "      <td>28.54</td>\n",
       "      <td>28.085096</td>\n",
       "    </tr>\n",
       "    <tr>\n",
       "      <th>13</th>\n",
       "      <td>30.31</td>\n",
       "      <td>32.949028</td>\n",
       "    </tr>\n",
       "    <tr>\n",
       "      <th>14</th>\n",
       "      <td>45.23</td>\n",
       "      <td>44.530060</td>\n",
       "    </tr>\n",
       "    <tr>\n",
       "      <th>15</th>\n",
       "      <td>26.36</td>\n",
       "      <td>26.898310</td>\n",
       "    </tr>\n",
       "    <tr>\n",
       "      <th>16</th>\n",
       "      <td>36.15</td>\n",
       "      <td>38.464748</td>\n",
       "    </tr>\n",
       "    <tr>\n",
       "      <th>17</th>\n",
       "      <td>38.65</td>\n",
       "      <td>39.651531</td>\n",
       "    </tr>\n",
       "    <tr>\n",
       "      <th>18</th>\n",
       "      <td>41.54</td>\n",
       "      <td>43.328678</td>\n",
       "    </tr>\n",
       "    <tr>\n",
       "      <th>19</th>\n",
       "      <td>22.67</td>\n",
       "      <td>23.476696</td>\n",
       "    </tr>\n",
       "  </tbody>\n",
       "</table>\n",
       "</div>"
      ],
      "text/plain": [
       "    Original  Prediction\n",
       "0      32.72   34.787601\n",
       "1      35.96   37.812962\n",
       "2      33.96   31.762243\n",
       "3      41.31   40.852917\n",
       "4      26.89   28.736883\n",
       "5      34.41   33.600815\n",
       "6      24.51   25.059738\n",
       "7      46.52   46.368633\n",
       "8      31.35   29.923670\n",
       "9      35.75   36.626175\n",
       "10     41.13   41.490108\n",
       "11     43.56   42.691490\n",
       "12     28.54   28.085096\n",
       "13     30.31   32.949028\n",
       "14     45.23   44.530060\n",
       "15     26.36   26.898310\n",
       "16     36.15   38.464748\n",
       "17     38.65   39.651531\n",
       "18     41.54   43.328678\n",
       "19     22.67   23.476696"
      ]
     },
     "execution_count": 31,
     "metadata": {},
     "output_type": "execute_result"
    }
   ],
   "source": [
    "original_series = pd.Series(combined_y.flatten(), name=\"Original\")\n",
    "prediction_series = pd.Series(yhat.flatten(), name=\"Prediction\")\n",
    "\n",
    "df_ANN = pd.concat([original_series, prediction_series], axis=1)\n",
    "\n",
    "df_ANN"
   ]
  },
  {
   "cell_type": "code",
   "execution_count": 25,
   "id": "42d37005",
   "metadata": {},
   "outputs": [],
   "source": [
    "df_ANN.to_csv('ANN_original_VS_predictions.csv', index=False)"
   ]
  },
  {
   "cell_type": "code",
   "execution_count": 27,
   "id": "0f1f5940",
   "metadata": {},
   "outputs": [
    {
     "name": "stdout",
     "output_type": "stream",
     "text": [
      "Layer 1 Weights:\n",
      "[[-1.0399208  -0.32537225 -0.33864146  0.15213986  1.1315218 ]\n",
      " [-0.38539988 -0.10660504  0.00169763 -1.4032701  -0.31934443]]\n",
      "Layer 2 Weights:\n",
      "[ 2.5055122 -1.4477426  0.8790605  2.2561283  3.279878 ]\n",
      "Layer 3 Weights:\n",
      "[[-0.3837964  -0.903822    1.578001  ]\n",
      " [-0.7696218  -0.64475775  0.76885295]\n",
      " [-1.3445897  -0.622217    0.4252068 ]\n",
      " [ 0.06644482 -0.49193752  1.5332302 ]\n",
      " [-0.94960433 -0.47104317  2.2873092 ]]\n",
      "Layer 4 Weights:\n",
      "[-0.6005179  -0.69031274  2.733751  ]\n",
      "Layer 5 Weights:\n",
      "[[0.0738318 ]\n",
      " [0.39816323]\n",
      " [1.8404794 ]]\n",
      "Layer 6 Weights:\n",
      "[2.6394083]\n"
     ]
    }
   ],
   "source": [
    "model_weights = selected_model.get_weights()\n",
    "\n",
    "for i, layer_weights in enumerate(model_weights):\n",
    "    print(f\"Layer {i + 1} Weights:\")\n",
    "    print(layer_weights)"
   ]
  },
  {
   "cell_type": "code",
   "execution_count": null,
   "id": "7f007d95",
   "metadata": {},
   "outputs": [],
   "source": []
  }
 ],
 "metadata": {
  "kernelspec": {
   "display_name": "Python 3 (ipykernel)",
   "language": "python",
   "name": "python3"
  },
  "language_info": {
   "codemirror_mode": {
    "name": "ipython",
    "version": 3
   },
   "file_extension": ".py",
   "mimetype": "text/x-python",
   "name": "python",
   "nbconvert_exporter": "python",
   "pygments_lexer": "ipython3",
   "version": "3.11.4"
  }
 },
 "nbformat": 4,
 "nbformat_minor": 5
}
